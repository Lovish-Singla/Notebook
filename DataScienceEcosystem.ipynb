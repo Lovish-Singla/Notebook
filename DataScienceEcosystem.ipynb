{
 "cells": [
  {
   "cell_type": "markdown",
   "id": "15869e6e",
   "metadata": {},
   "source": [
    "<center>\n",
    "    <img src=\"https://cf-courses-data.s3.us.cloud-object-storage.appdomain.cloud/IBMDeveloperSkillsNetwork-DS0105EN-SkillsNetwork/labs/Module2/images/SN_web_lightmode.png\" width=\"300\" alt=\"cognitiveclass.ai logo\">\n",
    "</center>\n"
   ]
  },
  {
   "cell_type": "markdown",
   "id": "77853d0c",
   "metadata": {},
   "source": [
    "#### Add your code below following the instructions given in the course"
   ]
  },
  {
   "cell_type": "markdown",
   "id": "1931d6e1",
   "metadata": {},
   "source": [
    "# Data Science Tools and Ecosystem"
   ]
  },
  {
   "cell_type": "markdown",
   "id": "a6d8529a",
   "metadata": {},
   "source": [
    "In this notebook, Data Science Tools and Ecosystem are summarized."
   ]
  },
  {
   "cell_type": "markdown",
   "id": "61d89833",
   "metadata": {},
   "source": [
    "Some of the popular languages that Data Scientists use are:\n",
    "1. Python\n",
    "2. R-Language\n",
    "3. Julia\n",
    "4. SQL\n",
    "5. Java"
   ]
  },
  {
   "cell_type": "markdown",
   "id": "5572a601",
   "metadata": {},
   "source": [
    "Some of the commonly used libraries used by Data Scientists include:\n",
    "1. Pandas\n",
    "2. NumPy\n",
    "3. TensorFlow\n",
    "4. SciPy\n",
    "5. Matplotlib"
   ]
  },
  {
   "cell_type": "markdown",
   "id": "c7bce072",
   "metadata": {},
   "source": [
    "Data Science Tools\n",
    "| Development Environments | Tools used |\n",
    "| ----------------- | ------------ |\n",
    "| Data Asset Management | Apache Atlas, ODPi Egeria, Kylo |\n",
    "| Code Asset Management | Git, github, gitlens |\n",
    "| Coding Environments | Jupyter, RStudio, Visual Studio Code |"
   ]
  },
  {
   "cell_type": "markdown",
   "id": "cce8ece1",
   "metadata": {},
   "source": [
    "**Objectives:**\n",
    " - Popular Languages for Data Science\n",
    " - Popular Libraries for Data Science\n",
    " - Data Science Tools\n",
    " - Basic Arithmetic Expressions"
   ]
  },
  {
   "attachments": {},
   "cell_type": "markdown",
   "id": "9334a6ce",
   "metadata": {},
   "source": [
    "### Below are a few examples of evaluating arithmetic expressions in Python"
   ]
  },
  {
   "cell_type": "code",
   "execution_count": 1,
   "id": "17fbb3bb",
   "metadata": {},
   "outputs": [
    {
     "data": {
      "text/plain": [
       "10"
      ]
     },
     "execution_count": 1,
     "metadata": {},
     "output_type": "execute_result"
    }
   ],
   "source": [
    "# Addition\n",
    "3+7"
   ]
  },
  {
   "cell_type": "code",
   "execution_count": 2,
   "id": "9ac3ee57",
   "metadata": {},
   "outputs": [
    {
     "data": {
      "text/plain": [
       "3"
      ]
     },
     "execution_count": 2,
     "metadata": {},
     "output_type": "execute_result"
    }
   ],
   "source": [
    "# Subtraction\n",
    "8-5"
   ]
  },
  {
   "cell_type": "code",
   "execution_count": 3,
   "id": "2203046e",
   "metadata": {},
   "outputs": [
    {
     "name": "stdout",
     "output_type": "stream",
     "text": [
      "216\n"
     ]
    }
   ],
   "source": [
    "# Power\n",
    "x = pow(6,3)\n",
    "print(x)"
   ]
  },
  {
   "cell_type": "code",
   "execution_count": 4,
   "id": "a4a332af",
   "metadata": {},
   "outputs": [
    {
     "data": {
      "text/plain": [
       "17"
      ]
     },
     "execution_count": 4,
     "metadata": {},
     "output_type": "execute_result"
    }
   ],
   "source": [
    "# This a simple arithmetic expression to mutiply then add integers\n",
    "(3*4)+5"
   ]
  },
  {
   "cell_type": "code",
   "execution_count": 5,
   "id": "d96fcfac",
   "metadata": {},
   "outputs": [
    {
     "name": "stdout",
     "output_type": "stream",
     "text": [
      "3.3333333333333335\n"
     ]
    }
   ],
   "source": [
    "# This will convert 200 minutes to hours by dividing by 60.\n",
    "hours = 200/60\n",
    "print(hours)"
   ]
  },
  {
   "cell_type": "markdown",
   "id": "d4545ea5",
   "metadata": {},
   "source": [
    "## Author\n",
    "Lovish Singla"
   ]
  },
  {
   "cell_type": "code",
   "execution_count": null,
   "id": "a84a721e",
   "metadata": {},
   "outputs": [],
   "source": []
  }
 ],
 "metadata": {
  "kernelspec": {
   "display_name": "Python 3 (ipykernel)",
   "language": "python",
   "name": "python3"
  },
  "language_info": {
   "codemirror_mode": {
    "name": "ipython",
    "version": 3
   },
   "file_extension": ".py",
   "mimetype": "text/x-python",
   "name": "python",
   "nbconvert_exporter": "python",
   "pygments_lexer": "ipython3",
   "version": "3.10.11"
  }
 },
 "nbformat": 4,
 "nbformat_minor": 5
}
